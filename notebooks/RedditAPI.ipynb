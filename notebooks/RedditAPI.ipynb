{
 "cells": [
  {
   "cell_type": "code",
   "execution_count": 1,
   "id": "bba4554f",
   "metadata": {},
   "outputs": [],
   "source": [
    "CLIENT_ID = 'qiGxoKr0w3soWifFQpodcg'\n",
    "SECRET_KEY = 'L0GVArYiav7pDd7HDcyhBrSvr2-6BA'\n",
    "USERNAME = 'Ok_Cycle_9995'\n",
    "PASSWORD = 'TICKERtest123!'"
   ]
  },
  {
   "cell_type": "code",
   "execution_count": 2,
   "id": "cdc720c9",
   "metadata": {},
   "outputs": [],
   "source": [
    "import praw"
   ]
  },
  {
   "cell_type": "code",
   "execution_count": 3,
   "id": "3fbfe4a2",
   "metadata": {},
   "outputs": [],
   "source": [
    "reddit = praw.Reddit(\n",
    "    client_id=CLIENT_ID,\n",
    "    client_secret=SECRET_KEY,\n",
    "    password=PASSWORD,\n",
    "    user_agent=\"testing\",\n",
    "    username=USERNAME,\n",
    ")"
   ]
  },
  {
   "cell_type": "code",
   "execution_count": 4,
   "id": "9c4cc7c0",
   "metadata": {},
   "outputs": [],
   "source": [
    "subreddit = reddit.subreddit('stocks')"
   ]
  },
  {
   "cell_type": "code",
   "execution_count": 5,
   "id": "39cdc730",
   "metadata": {},
   "outputs": [],
   "source": [
    "submissions = subreddit.hot(limit = 10)"
   ]
  },
  {
   "cell_type": "code",
   "execution_count": 36,
   "id": "8a2b432e",
   "metadata": {},
   "outputs": [],
   "source": [
    "import pandas as pd\n",
    "\n",
    "columns=['title', 'body', 'upvote_ratio', 'comments']\n",
    "df_text = pd.DataFrame(columns = columns)"
   ]
  },
  {
   "cell_type": "code",
   "execution_count": 7,
   "id": "cebe4da6",
   "metadata": {},
   "outputs": [],
   "source": [
    "data = []\n",
    "for submission in submissions:\n",
    "    title = submission.title\n",
    "    body = submission.selftext\n",
    "    up_ratio = submission.upvote_ratio\n",
    "    new_row = {'title': title, 'body': body, 'upvote_ratio': up_ratio}\n",
    "    data.append(new_row)"
   ]
  },
  {
   "cell_type": "code",
   "execution_count": 37,
   "id": "7cc26185",
   "metadata": {},
   "outputs": [],
   "source": [
    "df_text = pd.concat([df_text, pd.DataFrame(data)], ignore_index=True)"
   ]
  },
  {
   "cell_type": "code",
   "execution_count": 24,
   "id": "546bd4c0",
   "metadata": {},
   "outputs": [],
   "source": [
    "import os\n",
    "cwd = os.getcwd()\n",
    "parent_dir = os.path.abspath(os.path.join(cwd, os.pardir))\n",
    "file_path = os.path.join(parent_dir,'data', 'nasdaq_screener_1709658845697.csv')\n",
    "df = pd.read_csv(file_path)"
   ]
  },
  {
   "cell_type": "code",
   "execution_count": 54,
   "id": "e573c372",
   "metadata": {},
   "outputs": [
    {
     "data": {
      "text/plain": [
       "0"
      ]
     },
     "execution_count": 54,
     "metadata": {},
     "output_type": "execute_result"
    }
   ],
   "source": [
    "df['Name'].isnull().sum()"
   ]
  },
  {
   "cell_type": "code",
   "execution_count": 55,
   "id": "02aaf022",
   "metadata": {},
   "outputs": [],
   "source": [
    "symbol_list = [str(symbol).lower() if not pd.isna(symbol) else '' for symbol in df['Symbol'].tolist()]\n",
    "name_list = [name.lower() for name in df['Name'].tolist()]"
   ]
  },
  {
   "cell_type": "code",
   "execution_count": 48,
   "id": "a3abb6f4",
   "metadata": {},
   "outputs": [],
   "source": [
    "title_list =[]\n",
    "body_list =[]\n",
    "for index, row in df_text.iterrows():\n",
    "    title_words = row['title'].split()\n",
    "    title_list.extend(title_words)\n",
    "    text_words = row['body'].split()\n",
    "    body_list.extend(text_words)"
   ]
  },
  {
   "cell_type": "code",
   "execution_count": 56,
   "id": "33cdb008",
   "metadata": {},
   "outputs": [
    {
     "name": "stdout",
     "output_type": "stream",
     "text": [
      "Mar\n",
      "as\n",
      "BABA\n",
      "a\n",
      "tops\n",
      "as\n",
      "it\n",
      "on\n",
      "DIS\n",
      "up\n",
      "it\n",
      "be\n",
      "run\n",
      "else\n",
      "all\n",
      "AI\n",
      "EU\n"
     ]
    }
   ],
   "source": [
    "for word in title_list:\n",
    "    if word.lower() in symbol_list or word.lower() in name_list:\n",
    "        print(word)"
   ]
  },
  {
   "cell_type": "code",
   "execution_count": null,
   "id": "8639b1ad",
   "metadata": {},
   "outputs": [],
   "source": []
  }
 ],
 "metadata": {
  "kernelspec": {
   "display_name": "Python 3 (ipykernel)",
   "language": "python",
   "name": "python3"
  },
  "language_info": {
   "codemirror_mode": {
    "name": "ipython",
    "version": 3
   },
   "file_extension": ".py",
   "mimetype": "text/x-python",
   "name": "python",
   "nbconvert_exporter": "python",
   "pygments_lexer": "ipython3",
   "version": "3.10.6"
  },
  "toc": {
   "base_numbering": 1,
   "nav_menu": {},
   "number_sections": true,
   "sideBar": true,
   "skip_h1_title": false,
   "title_cell": "Table of Contents",
   "title_sidebar": "Contents",
   "toc_cell": false,
   "toc_position": {},
   "toc_section_display": true,
   "toc_window_display": false
  }
 },
 "nbformat": 4,
 "nbformat_minor": 5
}
