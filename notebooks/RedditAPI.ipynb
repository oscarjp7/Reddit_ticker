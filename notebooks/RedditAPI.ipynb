{
 "cells": [
  {
   "cell_type": "code",
   "execution_count": 11,
   "id": "bfa3f7ad",
   "metadata": {},
   "outputs": [],
   "source": [
    "CLIENT_ID = 'qiGxoKr0w3soWifFQpodcg'\n",
    "SECRET_KEY = 'L0GVArYiav7pDd7HDcyhBrSvr2-6BA'"
   ]
  },
  {
   "cell_type": "code",
   "execution_count": 12,
   "id": "24a2cfb2",
   "metadata": {},
   "outputs": [],
   "source": [
    "import requests"
   ]
  },
  {
   "cell_type": "code",
   "execution_count": 13,
   "id": "d3ddca0e",
   "metadata": {},
   "outputs": [],
   "source": [
    "auth = requests.auth.HTTPBasicAuth(CLIENT_ID, SECRET_KEY)"
   ]
  },
  {
   "cell_type": "code",
   "execution_count": 14,
   "id": "1170908c",
   "metadata": {},
   "outputs": [],
   "source": [
    "data = {\n",
    "    'grant_type': 'password',\n",
    "    'username': 'Ok_Cycle_9995',\n",
    "    'password': 'TICKERtest123!'\n",
    "}"
   ]
  },
  {
   "cell_type": "code",
   "execution_count": 15,
   "id": "07cf4c9f",
   "metadata": {},
   "outputs": [],
   "source": [
    "headers = {'User-Agent': 'MyAPI/0.0.1'}"
   ]
  },
  {
   "cell_type": "code",
   "execution_count": 16,
   "id": "cdf060c1",
   "metadata": {},
   "outputs": [],
   "source": [
    "res = requests.post('https://www.reddit.com/api/v1/access_token',\n",
    "                   auth = auth, data = data, headers = headers)"
   ]
  },
  {
   "cell_type": "code",
   "execution_count": 20,
   "id": "bdc8c657",
   "metadata": {},
   "outputs": [],
   "source": [
    "token = res.json()['access_token']"
   ]
  },
  {
   "cell_type": "code",
   "execution_count": 21,
   "id": "37faa163",
   "metadata": {},
   "outputs": [],
   "source": [
    "headers['Authorization'] = f'bearer {token}'"
   ]
  },
  {
   "cell_type": "code",
   "execution_count": 23,
   "id": "d6c68b41",
   "metadata": {},
   "outputs": [
    {
     "data": {
      "text/plain": [
       "<Response [200]>"
      ]
     },
     "execution_count": 23,
     "metadata": {},
     "output_type": "execute_result"
    }
   ],
   "source": [
    "requests.get('https://oauth.reddit.com/api/v1/me', headers = headers)"
   ]
  },
  {
   "cell_type": "code",
   "execution_count": null,
   "id": "461983a8",
   "metadata": {},
   "outputs": [],
   "source": [
    " "
   ]
  }
 ],
 "metadata": {
  "kernelspec": {
   "display_name": "Python 3 (ipykernel)",
   "language": "python",
   "name": "python3"
  },
  "language_info": {
   "codemirror_mode": {
    "name": "ipython",
    "version": 3
   },
   "file_extension": ".py",
   "mimetype": "text/x-python",
   "name": "python",
   "nbconvert_exporter": "python",
   "pygments_lexer": "ipython3",
   "version": "3.10.6"
  },
  "toc": {
   "base_numbering": 1,
   "nav_menu": {},
   "number_sections": true,
   "sideBar": true,
   "skip_h1_title": false,
   "title_cell": "Table of Contents",
   "title_sidebar": "Contents",
   "toc_cell": false,
   "toc_position": {},
   "toc_section_display": true,
   "toc_window_display": false
  }
 },
 "nbformat": 4,
 "nbformat_minor": 5
}
