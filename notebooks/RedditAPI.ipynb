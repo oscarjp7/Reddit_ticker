{
 "cells": [
  {
   "cell_type": "markdown",
   "id": "75461659",
   "metadata": {},
   "source": [
    "# REDDIT TICKER TRACKER"
   ]
  },
  {
   "cell_type": "markdown",
   "id": "8158050c",
   "metadata": {
    "heading_collapsed": true
   },
   "source": [
    "## Imports and stuff"
   ]
  },
  {
   "cell_type": "markdown",
   "id": "dcf2ac8f",
   "metadata": {
    "heading_collapsed": true,
    "hidden": true
   },
   "source": [
    "### Reddit api"
   ]
  },
  {
   "cell_type": "code",
   "execution_count": 1,
   "id": "bba4554f",
   "metadata": {
    "hidden": true
   },
   "outputs": [],
   "source": [
    "CLIENT_ID = 'qiGxoKr0w3soWifFQpodcg'\n",
    "SECRET_KEY = 'L0GVArYiav7pDd7HDcyhBrSvr2-6BA'\n",
    "USERNAME = 'Ok_Cycle_9995'\n",
    "PASSWORD = 'TICKERtest123!'"
   ]
  },
  {
   "cell_type": "code",
   "execution_count": 2,
   "id": "cdc720c9",
   "metadata": {
    "hidden": true
   },
   "outputs": [],
   "source": [
    "import praw\n",
    "import matplotlib.pyplot as plt"
   ]
  },
  {
   "cell_type": "code",
   "execution_count": 3,
   "id": "3fbfe4a2",
   "metadata": {
    "hidden": true
   },
   "outputs": [],
   "source": [
    "reddit = praw.Reddit(\n",
    "    client_id=CLIENT_ID,\n",
    "    client_secret=SECRET_KEY,\n",
    "    password=PASSWORD,\n",
    "    user_agent=\"testing\",\n",
    "    username=USERNAME,\n",
    ")"
   ]
  },
  {
   "cell_type": "markdown",
   "id": "92792be3",
   "metadata": {
    "heading_collapsed": true,
    "hidden": true
   },
   "source": [
    "### Stock ticker info"
   ]
  },
  {
   "cell_type": "code",
   "execution_count": 4,
   "id": "546bd4c0",
   "metadata": {
    "hidden": true
   },
   "outputs": [],
   "source": [
    "import pandas as pd\n",
    "import os\n",
    "cwd = os.getcwd()\n",
    "parent_dir = os.path.abspath(os.path.join(cwd, os.pardir))\n",
    "file_path = os.path.join(parent_dir,'data', 'nasdaq_screener_1711467065464.csv')\n",
    "df = pd.read_csv(file_path)"
   ]
  },
  {
   "cell_type": "code",
   "execution_count": 5,
   "id": "02aaf022",
   "metadata": {
    "hidden": true
   },
   "outputs": [],
   "source": [
    "symbol_list = [str(symbol).upper() if not pd.isna(symbol) else '' for symbol in df['Symbol'].tolist()]\n",
    "name_list = [name.lower() for name in df['Name'].tolist()]"
   ]
  },
  {
   "cell_type": "markdown",
   "id": "170a7259",
   "metadata": {},
   "source": [
    "## REDDIT FUNCTIONS"
   ]
  },
  {
   "cell_type": "markdown",
   "id": "c44c344b",
   "metadata": {
    "heading_collapsed": true
   },
   "source": [
    "### Posts, body and comments function"
   ]
  },
  {
   "cell_type": "code",
   "execution_count": 13,
   "id": "0e0cd27d",
   "metadata": {
    "hidden": true
   },
   "outputs": [],
   "source": [
    "def get_tickers(sub_list, num_posts, num_comments):\n",
    "    word_dict ={}\n",
    "    for sub in sub_list:\n",
    "        subreddit = reddit.subreddit(sub)\n",
    "        submissions = subreddit.hot(limit = num_posts)\n",
    "        \n",
    "        data = []\n",
    "        for submission in submissions:\n",
    "            data.extend(submission.title.split())\n",
    "            data.extend(submission.selftext.split())\n",
    "            \n",
    "            if num_comments >0:\n",
    "                comment_number = num_comments - 0\n",
    "                submission.comments.replace_more(limit=comment_number)\n",
    "                for comment in submission.comments.list():\n",
    "                    if isinstance(comment, praw.models.MoreComments):\n",
    "                        continue\n",
    "                    data.extend(comment.body.split())\n",
    "        \n",
    "        for word in data:\n",
    "            if word.isupper() and word in symbol_list and len(word)>1:\n",
    "                    if word in word_dict:\n",
    "                        word_dict[word] += 1\n",
    "                    else:\n",
    "                        word_dict[word] = 1\n",
    "    \n",
    "    sorted_data = dict(sorted(word_dict.items(), key = lambda item:item[1]))\n",
    "    return sorted_data"
   ]
  },
  {
   "cell_type": "code",
   "execution_count": 16,
   "id": "c679a83e",
   "metadata": {
    "hidden": true
   },
   "outputs": [
    {
     "name": "stdout",
     "output_type": "stream",
     "text": [
      "Rate My Portfolio - r/Stocks Quarterly Thread March 2024\n",
      "r/Stocks Daily Discussion Wednesday - Apr 03, 2024\n",
      "Trump sues co-founders over shares\n",
      "Daily Discussion Thread for April 3, 2024\n",
      "Most Anticipated Earnings Releases for the week beginning April 1st, 2024\n",
      "Amazon quits self-checkout technology\n",
      "{'UNH': 1, 'MPW': 1, 'OXY': 1, 'ACMR': 1, 'FICO': 1, 'INTU': 1, 'MA': 1, 'MCO': 1, 'SPGI': 1, 'ANET': 1, 'NEO': 1, 'BN': 1, 'NU': 1, 'ISRG': 1, 'AXP': 1, 'ASML': 1, 'WM': 1, 'RR': 1, 'KO': 1, 'MU': 1, 'PR': 1, 'ROKU': 1, 'BYND': 1, 'UDMY': 1, 'VFF': 1, 'TWOU': 1, 'COUR': 1, 'BAC': 1, 'LOW': 1, 'XP': 1, 'FIVE': 1, 'HD': 1, 'GE': 1, 'VITL': 1, 'ALG': 1, 'IESC': 1, 'LLAP': 1, 'GTLB': 1, 'CMG': 1, 'UBER': 1, 'CAVA': 1, 'ARM': 1, 'HOOD': 1, 'LLY': 1, 'MARA': 1, 'MTLS': 1, 'MVST': 1, 'BA': 1, 'BRK/B': 1, 'CHWY': 1, 'DOCN': 1, 'LRCX': 1, 'LYV': 1, 'MNST': 1, 'NICE': 1, 'RBLX': 1, 'SHOP': 1, 'TLRY': 1, 'MSCI': 1, 'EM': 1, 'ADM': 1, 'QS': 1, 'TSN': 1, 'BOOM': 1, 'JD': 1, 'VFC': 1, 'FVRR': 1, 'PARA': 1, 'LMT': 1, 'VKTX': 1, 'TT': 1, 'BTI': 1, 'SP': 1, 'ELF': 1, 'CELH': 1, 'CRWD': 1, 'DXYZ': 1, 'SO': 1, 'JPM': 1, 'MAN': 1, 'OUT': 1, 'HES': 1, 'MD': 1, 'ARE': 1, 'FSD': 1, 'FOR': 1, 'HAS': 1, 'IQ': 1, 'SON': 1, 'SMCI': 1, 'PM': 1, 'LUMN': 1, 'PUMP': 1, 'ET': 1, 'SPOT': 1, 'BIG': 1, 'NFLX': 1, 'EQ': 1, 'NOW': 1, 'UP': 1, 'TIL': 1, 'ALL': 1, 'PSX': 1, 'GES': 1, 'BLK': 1, 'DTE': 1, 'KRUS': 1, 'NKE': 1, 'BLDP': 1, 'OR': 1, 'MNR': 1, 'CCL': 1, 'CUK': 1, 'BJ': 1, 'ANL': 1, 'AYI': 1, 'ASTS': 1, 'BE': 1, 'HR': 1, 'MDLZ': 1, 'MKC': 1, 'GIS': 1, 'ULTA': 1, 'OUST': 1, 'CPA': 1, 'KSS': 1, 'IMO': 1, 'OP': 1, 'CIA': 1, 'AMAT': 2, 'MSTR': 2, 'ORCL': 2, 'AJG': 2, 'BNS': 2, 'CP': 2, 'IAG': 2, 'PYPL': 2, 'AZO': 2, 'LYFT': 2, 'VRT': 2, 'LULU': 2, 'NET': 2, 'GME': 2, 'AMP': 2, 'OPEN': 2, 'ON': 2, 'PT': 2, 'IT': 2, 'PAA': 2, 'PHAT': 2, 'RILY': 2, 'XOM': 2, 'SGML': 2, 'NNOX': 2, 'UK': 2, 'YOU': 2, 'TGT': 2, 'ML': 2, 'BABA': 3, 'SNOW': 3, 'MELI': 3, 'SOFI': 3, 'INTC': 3, 'AMC': 3, 'DIS': 3, 'BY': 3, 'CAG': 3, 'CALM': 3, 'LW': 3, 'AEHR': 4, 'DD': 4, 'EOD': 4, 'PAYX': 4, 'COST': 5, 'COIN': 5, 'AZZ': 5, 'PVH': 5, 'NVO': 6, 'TS': 6, 'GOOGL': 7, 'META': 7, 'GOOG': 7, 'RKLB': 7, 'PLTR': 8, 'ADP': 8, 'MAIN': 9, 'TECH': 9, 'RDDT': 9, 'AMD': 10, 'LEVI': 10, 'AMZN': 12, 'PLAY': 12, 'MSFT': 13, 'AAPL': 17, 'TSM': 19, 'DJT': 21, 'NVDA': 27, 'BB': 29, 'TSLA': 32, 'AI': 36}\n"
     ]
    }
   ],
   "source": [
    "test_list = ['stocks','wallstreetbets']\n",
    "test = get_tickers(test_list, 3, 1)\n",
    "print(test)"
   ]
  },
  {
   "cell_type": "markdown",
   "id": "9a1f2275",
   "metadata": {
    "heading_collapsed": true
   },
   "source": [
    "### Post and body function"
   ]
  },
  {
   "cell_type": "code",
   "execution_count": 16,
   "id": "72361e45",
   "metadata": {
    "hidden": true
   },
   "outputs": [],
   "source": [
    "def get_tickers_no_comm(sub_list):\n",
    "    word_dict ={}\n",
    "    for sub in sub_list:\n",
    "        subreddit = reddit.subreddit(sub)\n",
    "        submissions = subreddit.hot(limit = 50)\n",
    "        \n",
    "        data = []\n",
    "        for submission in submissions:\n",
    "            data.extend(submission.title.split())\n",
    "            data.extend(submission.selftext.split())\n",
    "        \n",
    "        #only add words that are all in upper case\n",
    "        for word in data:\n",
    "            if word.isupper() and word in symbol_list and len(word)>1:\n",
    "                    if word in word_dict:\n",
    "                        word_dict[word] += 1\n",
    "                    else:\n",
    "                        word_dict[word] = 1\n",
    "        \n",
    "        #adds all words that could be tickers\n",
    "        #for word in data:\n",
    "            #if word.upper() in symbol_list and len(word)>1:\n",
    "                    #if word.upper() in word_dict:\n",
    "                        #word_dict[word.upper()] += 1\n",
    "                    #else:\n",
    "                        #word_dict[word.upper()] = 1\n",
    "                        \n",
    "    return word_dict"
   ]
  },
  {
   "cell_type": "code",
   "execution_count": 17,
   "id": "6c1dc204",
   "metadata": {
    "hidden": true
   },
   "outputs": [
    {
     "name": "stdout",
     "output_type": "stream",
     "text": [
      "{'ANY': 1, 'GOOD': 1, 'OR': 1, 'CAN': 1, 'ME': 1, 'WING': 1, 'CMG': 1, 'GENK': 1, 'GME': 1, 'PATH': 1, 'PEG': 1, 'HD': 1, 'LULU': 1, 'AAPL': 1, 'LMT': 1, 'NKLA': 1, 'FUN': 1, 'PAY': 1, 'UK': 1, 'NCNO': 1, 'ES': 1, 'AMD': 1, 'META': 1, 'MSM': 1, 'DAY': 1, 'HAS': 1, 'PLAY': 1, 'ARE': 1, 'ALL': 1, 'AMZN': 1, 'INTC': 1, 'CMC': 1, 'USA': 1, 'MMM': 1, 'DTE': 1, 'RUN': 1, 'RSI': 1, 'CBOE': 1, 'ML': 1, 'BWB': 1, 'IE': 1, 'MARA': 1, 'FDX': 1, 'EA': 2, 'IMO': 2, 'CAVA': 2, 'COO': 2, 'EXP': 2, 'TD': 2, 'CME': 2, 'VC': 2, 'EU': 2, 'EDIT': 2, 'RDDT': 3, 'SOFI': 3, 'PM': 3, 'GES': 3, 'BYD': 3, 'FA': 3, 'VS': 3, 'MSFT': 4, 'NVDA': 4, 'DD': 4, 'TSM': 4, 'UBS': 5, 'NIO': 5, 'DJT': 5, 'IBKR': 5, 'LLY': 6, 'CC': 6, 'RH': 7, 'FCF': 8, 'TSLA': 9, 'AM': 14, 'TKO': 26, 'AI': 39}\n"
     ]
    }
   ],
   "source": [
    "subreddits=['stocks','wallstreetbets','investing','options']\n",
    "\n",
    "new = get_tickers_no_comm(subreddits)\n",
    "sorted_data = dict(sorted(new.items(), key = lambda item:item[1]))\n",
    "\n",
    "print(sorted_data)"
   ]
  },
  {
   "cell_type": "code",
   "execution_count": 18,
   "id": "25f95917",
   "metadata": {
    "hidden": true
   },
   "outputs": [
    {
     "data": {
      "text/plain": [
       "<function matplotlib.pyplot.show(close=None, block=None)>"
      ]
     },
     "execution_count": 18,
     "metadata": {},
     "output_type": "execute_result"
    },
    {
     "data": {
      "image/png": "[encoded data removed]",
      "text/plain": [
       "<Figure size 1200x600 with 1 Axes>"
      ]
     },
     "metadata": {},
     "output_type": "display_data"
    }
   ],
   "source": [
    "ticker = (sorted_data.keys())\n",
    "count = (sorted_data.values())\n",
    "plt.figure(figsize =(12,6))\n",
    "plt.bar(ticker, count)\n",
    "plt.xlabel('Tickers')\n",
    "plt.ylabel('Frequency')\n",
    "plt.title('Frequency of Tickers from Reddit')\n",
    "plt.xticks(rotation = 90)\n",
    "plt.tight_layout()\n",
    "plt.show"
   ]
  },
  {
   "cell_type": "markdown",
   "id": "7cb4b929",
   "metadata": {
    "heading_collapsed": true
   },
   "source": [
    "### Comments from daily discussion"
   ]
  },
  {
   "cell_type": "code",
   "execution_count": 37,
   "id": "ca0ce5ae",
   "metadata": {
    "hidden": true
   },
   "outputs": [],
   "source": [
    "def daily_comms():\n",
    "    com_dict = {}\n",
    "    data =[]\n",
    "    subreddit = reddit.subreddit('wallstreetbets')\n",
    "    submission = next(subreddit.hot(limit = 1))\n",
    "    submission.comments.replace_more(limit=0)\n",
    "    \n",
    "    for comment in submission.comments.list():\n",
    "        if isinstance(comment, praw.models.MoreComments):\n",
    "            continue\n",
    "        data.extend(comment.body.split())\n",
    "    \n",
    "    for word in data:\n",
    "            if word.upper() in symbol_list and len(word)>1:\n",
    "                    if word.upper() in com_dict:\n",
    "                        com_dict[word.upper()] += 1\n",
    "                    else:\n",
    "                        com_dict[word.upper()] = 1\n",
    "                        \n",
    "    return dict(sorted(com_dict.items(), key = lambda item:item[1])) "
   ]
  },
  {
   "cell_type": "code",
   "execution_count": 38,
   "id": "f009d2fc",
   "metadata": {
    "hidden": true
   },
   "outputs": [
    {
     "name": "stdout",
     "output_type": "stream",
     "text": [
      "{'BEST': 1, 'PRE': 1, 'EU': 1, 'TOP': 1, 'CASH': 1, 'NVDA': 1, 'BUD': 1, 'ME': 1, 'DAL': 1, 'CCL': 1, 'TWO': 1, 'BIT': 1, 'GOLD': 1, 'PLAY': 1, 'COST': 1, 'LAAC': 1, 'TELL': 1, 'POST': 1, 'OP': 1, 'ANY': 1, 'PLUS': 1, 'WELL': 1, 'BIG': 1, 'CAN': 1, 'RELY': 1, 'SAVE': 1, 'BACK': 1, 'CAR': 1, 'MOVE': 1, 'TRIP': 1, 'AIR': 1, 'HE': 1, 'AGO': 2, 'BKNG': 2, 'PAY': 2, 'ABNB': 2, 'LOVE': 2, 'NEXT': 2, 'RUN': 2, 'SEE': 2, 'LOT': 2, 'LIFE': 2, 'SAY': 2, 'FUN': 2, 'GOOD': 2, 'NOW': 3, 'AN': 3, 'HAS': 4, 'AS': 4, 'SO': 4, 'UP': 5, 'BY': 5, 'OUT': 5, 'DO': 6, 'BE': 6, 'OR': 6, 'GO': 6, 'AI': 7, 'ALL': 10, 'IT': 11, 'ON': 16, 'FOR': 19, 'YOU': 23, 'ARE': 25}\n"
     ]
    }
   ],
   "source": [
    "yo = daily_comms()\n",
    "print(yo)"
   ]
  },
  {
   "cell_type": "markdown",
   "id": "8a43e309",
   "metadata": {},
   "source": [
    "### Comments and sentiment analysis"
   ]
  },
  {
   "cell_type": "code",
   "execution_count": 6,
   "id": "ed52dccd",
   "metadata": {},
   "outputs": [
    {
     "name": "stderr",
     "output_type": "stream",
     "text": [
      "2024-04-04 15:52:02.766178: I tensorflow/core/platform/cpu_feature_guard.cc:193] This TensorFlow binary is optimized with oneAPI Deep Neural Network Library (oneDNN) to use the following CPU instructions in performance-critical operations:  AVX2 FMA\n",
      "To enable them in other operations, rebuild TensorFlow with the appropriate compiler flags.\n"
     ]
    }
   ],
   "source": [
    "from transformers import pipeline"
   ]
  },
  {
   "cell_type": "code",
   "execution_count": 7,
   "id": "cc90d78a",
   "metadata": {},
   "outputs": [],
   "source": [
    "classifier = pipeline('sentiment-analysis', model = 'mwkby/distilbert-base-uncased-sentiment-reddit-crypto')"
   ]
  },
  {
   "cell_type": "code",
   "execution_count": 7,
   "id": "5d454146",
   "metadata": {},
   "outputs": [
    {
     "name": "stderr",
     "output_type": "stream",
     "text": [
      "Some weights of the model checkpoint at cardiffnlp/twitter-roberta-base-sentiment-latest were not used when initializing RobertaForSequenceClassification: ['roberta.pooler.dense.bias', 'roberta.pooler.dense.weight']\n",
      "- This IS expected if you are initializing RobertaForSequenceClassification from the checkpoint of a model trained on another task or with another architecture (e.g. initializing a BertForSequenceClassification model from a BertForPreTraining model).\n",
      "- This IS NOT expected if you are initializing RobertaForSequenceClassification from the checkpoint of a model that you expect to be exactly identical (initializing a BertForSequenceClassification model from a BertForSequenceClassification model).\n"
     ]
    }
   ],
   "source": [
    "class_2 = pipeline('sentiment-analysis', model = 'cardiffnlp/twitter-roberta-base-sentiment-latest')"
   ]
  },
  {
   "cell_type": "code",
   "execution_count": 9,
   "id": "bd061d73",
   "metadata": {},
   "outputs": [],
   "source": [
    "def daily_comms_sent():\n",
    "    com_dict = {'Stock':[],'Frequency':[],'Positive':[],'Neutral':[],'Negative':[],'Score':[]}\n",
    "    subreddit = reddit.subreddit('wallstreetbets')\n",
    "    submissions = subreddit.hot(limit = 3)\n",
    "    submission = None\n",
    "    for sub in submissions:\n",
    "        if 'Daily Discussion' in sub.title:\n",
    "            print(sub.title)\n",
    "            submission = sub\n",
    "            break\n",
    "    if submission:\n",
    "        submission.comments.replace_more(limit=0)\n",
    "    \n",
    "        for comment in submission.comments.list():\n",
    "            if isinstance(comment, praw.models.MoreComments):\n",
    "                continue\n",
    "            body = comment.body \n",
    "            ticker_count = 0\n",
    "        \n",
    "            for word in body.split():\n",
    "                if word.isupper() and word in symbol_list and len(word)>1:\n",
    "                    ticker_count +=1\n",
    "                    word_upper = word.upper()\n",
    "                \n",
    "                #above for only words in all caps, bellow for all words that match ticker\n",
    "                #if word.upper() in symbol_list and len(word)>1 and word.upper() not in not_stocks:\n",
    "                    if word_upper not in com_dict['Stock']:\n",
    "                        com_dict['Stock'].append(word_upper)\n",
    "                        com_dict['Frequency'].append(0)\n",
    "                        com_dict['Score'].append(0)\n",
    "                        com_dict['Positive'].append(0)\n",
    "                        com_dict['Neutral'].append(0)\n",
    "                        com_dict['Negative'].append(0)\n",
    "                    \n",
    "                    index = com_dict['Stock'].index(word_upper)\n",
    "                    com_dict['Frequency'][index] += 1\n",
    "                    \n",
    "                    #do sentiment analysis for comment \n",
    "            if ticker_count == 1:        \n",
    "                pred = class_2(body)\n",
    "                score = pred[0]['score']\n",
    "                com_dict['Score'][index] += score\n",
    "                Label = pred[0]['label']\n",
    "                com_dict[Label.capitalize()][index] += 1\n",
    "    else:\n",
    "        return com_dict\n",
    "    ticker_df = pd.DataFrame(com_dict)\n",
    "    \n",
    "    sorted_ticker_df = ticker_df.sort_values(by='Frequency', ascending = False)\n",
    "    \n",
    "   \n",
    "    return sorted_ticker_df"
   ]
  },
  {
   "cell_type": "code",
   "execution_count": 18,
   "id": "3fbcee55",
   "metadata": {},
   "outputs": [
    {
     "name": "stdout",
     "output_type": "stream",
     "text": [
      "[{'label': 'neutral', 'score': 0.6059423089027405}]\n"
     ]
    }
   ],
   "source": [
    "test = 'Inshallah it goes to 0 this week and my puts max out'\n",
    "pred = class_2(test)\n",
    "print(pred)"
   ]
  },
  {
   "cell_type": "code",
   "execution_count": 12,
   "id": "c5172a8b",
   "metadata": {},
   "outputs": [
    {
     "name": "stdout",
     "output_type": "stream",
     "text": [
      "0.9746753573417664\n"
     ]
    }
   ],
   "source": [
    "print(pred[0]['score'])"
   ]
  },
  {
   "cell_type": "code",
   "execution_count": 10,
   "id": "99a56c73",
   "metadata": {},
   "outputs": [
    {
     "name": "stdout",
     "output_type": "stream",
     "text": [
      "Daily Discussion Thread for April 4, 2024\n",
      "    Stock  Frequency  Positive  Neutral  Negative      Score\n",
      "0    NVDA         31         6        9         7  16.195334\n",
      "1     TSM         29         4       13         4  15.750948\n",
      "2     DJT         13         1        6         5   8.560260\n",
      "3    AAPL         10         1        3         1   3.749139\n",
      "6     AMD          9         0        6         1   5.380722\n",
      "26    YOU          5         0        0         0   0.000000\n",
      "11    PAA          4         0        3         1   2.516672\n",
      "27   RDDT          4         0        1         2   2.711091\n",
      "24   TSLA          4         0        2         1   1.938532\n",
      "31   PLTR          3         0        3         0   2.022385\n",
      "21     UP          3         1        0         0   0.612527\n",
      "17    CAN          3         0        0         0   0.000000\n",
      "4    OPEN          3         0        1         1   1.380582\n",
      "18  GOOGL          2         0        0         1   0.748379\n",
      "29     GO          2         0        0         0   0.000000\n",
      "7     EOD          2         0        0         0   0.000000\n",
      "13     PM          2         0        1         1   1.492144\n",
      "12   ALCC          1         0        1         0   0.927586\n",
      "25   LULU          1         0        0         1   0.749153\n",
      "33   HOOD          1         0        0         1   0.818468\n",
      "32   META          1         0        0         0   0.000000\n",
      "30   SNDL          1         0        1         0   0.921881\n",
      "28    ARE          1         0        0         1   0.820525\n",
      "5      BB          1         0        0         1   0.844227\n",
      "23    ADP          1         1        0         0   0.839500\n",
      "8      DD          1         0        0         0   0.000000\n",
      "22   PUMP          1         0        0         1   0.938188\n",
      "9    DOOR          1         0        0         0   0.000000\n",
      "20   FANG          1         0        1         0   0.501715\n",
      "19    LOW          1         0        1         0   0.826109\n",
      "10     MU          1         0        1         0   0.734593\n",
      "16    GES          1         0        1         0   0.641844\n",
      "15   INTC          1         0        0         0   0.000000\n",
      "14     AM          1         0        0         0   0.000000\n",
      "34     ME          1         0        1         0   0.439674\n"
     ]
    }
   ],
   "source": [
    "test_2 = daily_comms_sent()\n",
    "print(test_2)"
   ]
  },
  {
   "cell_type": "code",
   "execution_count": 9,
   "id": "9724afd0",
   "metadata": {},
   "outputs": [
    {
     "name": "stdout",
     "output_type": "stream",
     "text": [
      "Daily Discussion Thread for April 3, 2024\n",
      "   Stock  Frequency  Positive  Neutral  Negative      Score\n",
      "0   TSLA         18        12        0         6  16.956894\n",
      "16  NVDA          8         5        0         3   7.628449\n",
      "9    TSM          8         2        0         6   7.437287\n",
      "14  AAPL          7         4        0         3   6.514985\n",
      "19    AI          7         3        0         4   6.857818\n",
      "23   AZZ          5         4        0         1   4.470415\n",
      "18   ADP          5         4        0         1   4.678483\n",
      "17   DJT          5         3        0         2   4.480331\n",
      "3     DD          4         1        0         3   3.979995\n",
      "20   PAA          3         1        0         2   2.597010\n",
      "15  RDDT          3         1        0         2   2.343045\n",
      "11   AMD          2         0        0         2   1.993432\n",
      "41  INTC          2         1        0         1   1.977457\n",
      "31   EOD          2         2        0         0   1.972687\n",
      "37   XOM          2         1        0         1   1.787826\n",
      "12    IT          2         1        0         1   1.974559\n",
      "5   OPEN          2         0        0         2   1.989665\n",
      "29  PHAT          2         2        0         0   1.800406\n",
      "30  LEVI          2         1        0         1   1.664770\n",
      "10    PT          2         1        0         1   1.835341\n",
      "40    BY          1         1        0         0   0.991015\n",
      "39   PSX          1         1        0         0   0.998691\n",
      "36   TIL          1         0        0         1   0.999145\n",
      "43  RILY          1         0        0         1   0.883675\n",
      "35    UP          1         0        0         1   0.998228\n",
      "34   NOW          1         0        0         1   0.998228\n",
      "33  SPOT          1         1        0         0   0.997838\n",
      "32    BB          1         0        0         1   0.857204\n",
      "38   ALL          1         0        0         1   0.793469\n",
      "42  ASML          1         0        0         1   0.999268\n",
      "22  LUMN          1         0        0         1   0.740305\n",
      "28  MSFT          1         0        0         1   0.991404\n",
      "27  META          1         0        0         1   0.991404\n",
      "26  AMZN          1         1        0         0   0.810181\n",
      "25    ET          1         1        0         0   0.986074\n",
      "24  SMCI          1         0        0         1   0.974538\n",
      "1    FSD          1         1        0         0   0.995370\n",
      "21    PM          1         0        0         1   0.740305\n",
      "13   SON          1         1        0         0   0.976792\n",
      "8    HAS          1         0        0         1   0.999190\n",
      "7    DIS          1         0        0         1   0.998128\n",
      "6     IQ          1         0        0         1   0.998128\n",
      "4    FOR          1         0        0         1   0.996776\n",
      "2   PLTR          1         0        0         1   0.993278\n",
      "44   DTE          1         1        0         0   0.867190\n"
     ]
    }
   ],
   "source": [
    "test = daily_comms_sent()\n",
    "print(test)"
   ]
  },
  {
   "cell_type": "code",
   "execution_count": 12,
   "id": "76f2eb00",
   "metadata": {},
   "outputs": [],
   "source": [
    "not_stocks = ['IT','FOR','ON','YOU','SO','BE','UP','GOOD','ARE','DAY','OR','ALL','CAN','ME','DO','BY','GO','OUT',\n",
    "              'AS','BACK','OPEN','SEE','PUMP','NOW','BIG','HAS','NEXT','EOD','AN','AM','CASH','PLAY','HEAR','SAY',\n",
    "              'LOW','TOP','LOVE','ANY','HE','TWO','RH','CCL','HOPE','SNOW','GLAD','EVER','AI','LIVE','BILL','NET',\n",
    "              'IMO','BRO','POST','PR','HUGE','PEP','NICE','CARE','DD','LIFE','GAME']"
   ]
  },
  {
   "cell_type": "markdown",
   "id": "d7e8ff99",
   "metadata": {},
   "source": [
    "## Build Datasets"
   ]
  },
  {
   "cell_type": "code",
   "execution_count": 40,
   "id": "c1afadcf",
   "metadata": {},
   "outputs": [],
   "source": [
    "def dataset_builder(sub):\n",
    "    Comments=[]\n",
    "    subreddit = reddit.subreddit(sub)\n",
    "    submissions = subreddit.hot(limit = 3)\n",
    "    submission = None\n",
    "    for sub in submissions:\n",
    "        if 'Daily Discussion' in sub.title:\n",
    "            submission = sub\n",
    "            break\n",
    "            \n",
    "    if submission:\n",
    "        submission.comments.replace_more(limit=0)\n",
    "    \n",
    "        for comment in submission.comments.list():\n",
    "            if isinstance(comment, praw.models.MoreComments):\n",
    "                continue\n",
    "            body = comment.body \n",
    "            for word in body.split():\n",
    "                if word.isupper() and word in symbol_list and len(word)>1:\n",
    "                    Comments.append(body)\n",
    "    \n",
    "    return Comments"
   ]
  },
  {
   "cell_type": "code",
   "execution_count": 41,
   "id": "f01243f4",
   "metadata": {},
   "outputs": [
    {
     "name": "stdout",
     "output_type": "stream",
     "text": [
      "[\"Fund managers and MMs trade just as emotionally as retail. \\n\\nYou can't tell me Cathie doesn't absolutely RAGE BUY shit like PLTR when she makes a bad call before explaining it away with cobbled together DD about innovation and story.\", \"Fund managers and MMs trade just as emotionally as retail. \\n\\nYou can't tell me Cathie doesn't absolutely RAGE BUY shit like PLTR when she makes a bad call before explaining it away with cobbled together DD about innovation and story.\", \"> US SECRETARY OF STATE ANTONY BLINKEN’S AIRCRAFT HAD MECHANICAL ISSUE IN PARIS, US DELEGATION DROVE TO BRUSSELS FOR NATO MEETING - - STATE DEPARTMENT SPOKESPERSON And no, it's not an Airbus\", 'Just OPEN THE FUCKING CASINO and get this bitch over with', 'THE FED HAS LOST CONTROL', 'JPOW GONNA FART ON HIS HAND AND SLAP THE BEARS TODAY', 'TSM green as AI is being used to track aftershocks and tidal waves\\n\\nGet rekt 🐻 ![img](emote|t5_2th52|4267)![img](emote|t5_2th52|4271)', 'TSM green as AI is being used to track aftershocks and tidal waves\\n\\nGet rekt 🐻 ![img](emote|t5_2th52|4267)![img](emote|t5_2th52|4271)', 'TSLA just announced FSD - Full self drilling ![img](emote|t5_2th52|4271)', 'TSLA just announced FSD - Full self drilling ![img](emote|t5_2th52|4271)', \"This week on Marvel's What If...?\\n\\nWhat if Tony Stark got divorced and became a terminally online twitter troll who would do anything for the attention of the lowest IQ people on the planet to the detriment of any business associated with his name?\\n\\nBullish on DIS\", \"This week on Marvel's What If...?\\n\\nWhat if Tony Stark got divorced and became a terminally online twitter troll who would do anything for the attention of the lowest IQ people on the planet to the detriment of any business associated with his name?\\n\\nBullish on DIS\", 'Waking up to an earthquake fucking my TSM calls in the ass. Why do I play this game?', \"Lets count AAPL bag holders, I'll go first:\\n60k in AAPL $185 @ July 19 currently down 50%\", \"Lets count AAPL bag holders, I'll go first:\\n60k in AAPL $185 @ July 19 currently down 50%\", \"$TSLA | Guggenheim CUTS Tesla PT to $122 from $132, maintaining a 'Sell' rating.        \\n\\nThe firm points to more than just a one-time issue for Tesla after weak Q1 deliveries, saying the supply chain issues highlighted by the company didn't explain the big drop in deliveries.        \\n\\nAnalyst Comment: “We estimate the majority of delivery downside this quarter was a function of demand, not supply. We now model negative volume growth for FY24, highlight 2Q volume comparisons are challenging and sense a strategic shift from TSLA to defend pricing (correct long-term strategy, in our view) at the expense of volumes,”        \\n\\nThe dip in demand has led to a significant increase in Tesla's inventory, potentially impacting its cash position.\", \"$TSLA | Guggenheim CUTS Tesla PT to $122 from $132, maintaining a 'Sell' rating.        \\n\\nThe firm points to more than just a one-time issue for Tesla after weak Q1 deliveries, saying the supply chain issues highlighted by the company didn't explain the big drop in deliveries.        \\n\\nAnalyst Comment: “We estimate the majority of delivery downside this quarter was a function of demand, not supply. We now model negative volume growth for FY24, highlight 2Q volume comparisons are challenging and sense a strategic shift from TSLA to defend pricing (correct long-term strategy, in our view) at the expense of volumes,”        \\n\\nThe dip in demand has led to a significant increase in Tesla's inventory, potentially impacting its cash position.\", 'Getting fucked today, I bought TSM, AMD and TSLA yesterday ![img](emote|t5_2th52|4260)![img](emote|t5_2th52|4260)', 'Getting fucked today, I bought TSM, AMD and TSLA yesterday ![img](emote|t5_2th52|4260)![img](emote|t5_2th52|4260)', 'Well my DJT puts are fucked\\n\\nBut at least I didn’t buy 150k of SPY calls', '\"Unable to create comment\"\\n\\nputs on RDDT', 'SPY HITTING 550 TODAY BOOK IT SON', 'SPY HITTING 550 TODAY BOOK IT SON', 'Oh cool my TSLA puts have made me *checks port* not enough money to cancel out my failing RDDT puts. Great.', 'Oh cool my TSLA puts have made me *checks port* not enough money to cancel out my failing RDDT puts. Great.', 'So much for TSM rally beginning of April 💩', 'Please reach 900 NVDA ![img](emote|t5_2th52|27421)', 'people thought an earthquake would stop NVDA gains? god cant even help you now mf', 'AAPL releases ai news that it can beat gpt4 -> -1% ![img](emote|t5_2th52|27421)', 'bibles to all DJT call holders', 'TSLA drilling', 'TSM holding strong', 'DJT & REDDIT TO $5', 'Clown market over, SPY and tech up, DJT and RDDT down ![img](emote|t5_2th52|8882)', 'Clown market over, SPY and tech up, DJT and RDDT down ![img](emote|t5_2th52|8882)', 'NVDA you little bitch get to 1000', 'DJT holders looking at their portfolios today: ![img](emote|t5_2th52|18632)![img](emote|t5_2th52|18632)![img](emote|t5_2th52|18632)![img](emote|t5_2th52|31225)![img](emote|t5_2th52|31225)![img](emote|t5_2th52|4267)![img](emote|t5_2th52|4267)![img](emote|t5_2th52|4267)![img](emote|t5_2th52|4267)', 'TSM you beautiful son of a bitch', \"Most my account is in TSM calls, so it's gonna be an ugly morning, but should gap up this week.\\n\\nMy PAA and PM calls are just flyingggg though. Wish I had a few more of those.\\n\\nI also feel LUMN $1.50 5/17 are gonna print (earnings on 4/30) and they're like $0.07 so I might pick up a few this morning.\", \"Most my account is in TSM calls, so it's gonna be an ugly morning, but should gap up this week.\\n\\nMy PAA and PM calls are just flyingggg though. Wish I had a few more of those.\\n\\nI also feel LUMN $1.50 5/17 are gonna print (earnings on 4/30) and they're like $0.07 so I might pick up a few this morning.\", \"Most my account is in TSM calls, so it's gonna be an ugly morning, but should gap up this week.\\n\\nMy PAA and PM calls are just flyingggg though. Wish I had a few more of those.\\n\\nI also feel LUMN $1.50 5/17 are gonna print (earnings on 4/30) and they're like $0.07 so I might pick up a few this morning.\", \"Most my account is in TSM calls, so it's gonna be an ugly morning, but should gap up this week.\\n\\nMy PAA and PM calls are just flyingggg though. Wish I had a few more of those.\\n\\nI also feel LUMN $1.50 5/17 are gonna print (earnings on 4/30) and they're like $0.07 so I might pick up a few this morning.\", 'TSLA fukt. DJT fukt. RDDT fukt. SPY all time high', 'TSLA fukt. DJT fukt. RDDT fukt. SPY all time high', 'TSLA fukt. DJT fukt. RDDT fukt. SPY all time high', \"having spent several hours last night reviewing the quality & quantity of porn on reddit (which in a word is substantial), my new PT for RDDT is $5k. That's 3k more than what that regard schiff said for DJT. Load up!!\", \"having spent several hours last night reviewing the quality & quantity of porn on reddit (which in a word is substantial), my new PT for RDDT is $5k. That's 3k more than what that regard schiff said for DJT. Load up!!\", 'CNBC talking head 5 months ago: markets will roar as Fed does 6 or even more rate cuts.\\xa0\\n\\n\\xa0CNBC analyst now: strong ADP employment # is good sign economy is strong and bull market will continue.\\xa0\\n\\n\\xa0🤡', 'Historically April and December are the strongest bull months. Check on Google or your AI buddy.', 'SMCI ass raping me ![img](emote|t5_2th52|31226)', 'Green confirmed EOD ![img](emote|t5_2th52|4258)', 'So NVDA just never going to have a green day again? All -1% from here on….. cool….', 'Good luck everyone except TSLA fanboys\\xa0', 'DJT dump incoming', 'I’m going to get greedy on these DJT puts ![img](emote|t5_2th52|4271)', 'lol INTC missing out on the biggest semi rally in history, show me a more pathetic stock.', 'AMC IS DEAD ![img](emote|t5_2th52|4271)![img](emote|t5_2th52|4271)![img](emote|t5_2th52|4271)![img](emote|t5_2th52|4271)', 'DJT $50 11/15 c = $8.75\\n\\nDJT $50 11/15 p = $34.20\\n\\n![img](emote|t5_2th52|4271)![img](emote|t5_2th52|4271)![img](emote|t5_2th52|4271)', 'DJT $50 11/15 c = $8.75\\n\\nDJT $50 11/15 p = $34.20\\n\\n![img](emote|t5_2th52|4271)![img](emote|t5_2th52|4271)![img](emote|t5_2th52|4271)', 'Just wait til Jpump speaks. SPY 525 EOD', 'Last chance to get on this TSM train chooo chooo mothersuckers', 'TSM train is the absolute moveeeeee', 'The Fed just needs to fire all the humans and switch to AI run algos. Automate all decisions. The market would love that shit.', '7.8 earthquake mean spy will go up $7.8. Follow for more DD', 'PP into ber AZZ', 'AAPL up 0.15%? fucking W right there', \"I'm thinking TSLA keeps falling 2% each day until a low in the 152-155 range. Doubt it goes below 150. That's where I'll be buying calls\", 'When a company continuously posts shit results from doing business, why the fuck would you believe them when they spin some bullshit about the future?\\n\\nTSLA 📉', 'Fuck NVDA and Apple, META and MSFT have not even hinted at any kind of pullback in like a year. Zuck is invincible.\\xa0', 'Fuck NVDA and Apple, META and MSFT have not even hinted at any kind of pullback in like a year. Zuck is invincible.\\xa0', 'Fuck NVDA and Apple, META and MSFT have not even hinted at any kind of pullback in like a year. Zuck is invincible.\\xa0', 'Apple announces new iPhone with ai and NVDA processors', 'TSM finishes green today.\\xa0', 'PUMP DIS', 'PUMP DIS', 'TSLA wtf why are you rocketing up', \"Show yourselves INTC bagholders! Do it now!\\n\\nIt's me.  I'm INTC bagholders\", \"Show yourselves INTC bagholders! Do it now!\\n\\nIt's me.  I'm INTC bagholders\", 'RILY REID calls ![img](emote|t5_2th52|4276)', \"Sold all my TSLA , you're welcome\", 'RDDT and DJT down while everything else up, as it should be', 'RDDT and DJT down while everything else up, as it should be', 'what the ... NVDA kept getting rejected at 900', 'Got out of $SPY at that MEGA PUMP with a 12% portfolio gain, including +200% on some 0DTEs.\\n\\nGood enough for me. Good luck other bols still in!\\n\\n![img](emote|t5_2th52|4258)', 'What’s it gonna take for DJT to be properly valued? They announce they are losing money, no revenue, high risk of failing, mismanaged, and founders suing each other. Who sees that and is like “Im in!”', \"I shorted NVDA calls, so it's now gonna run.  You're welcome\", 'NVIDIA AMD ![img](emote|t5_2th52|4276)![img](emote|t5_2th52|4276)![img](emote|t5_2th52|4276)', 'Went to Disneyland last weekend. It was raining and park was crowded. DIS 130 June Calls', 'Hover around 520 until Powell speaks then up to 523 maybe 524 by 2pm ET', \"DJT has 3 employees, the CEO is Devin Nunes, it generates less revenue than a single Denny's, and somehow it goes up 6% on a red Tuesday and bounces from -5% premarket and turns green.  Make it make sense\", \"How'd u get so swole?? I do 1 push up every time AAPL reclaims 170 level\", 'RIP TSLA', \"Full port TSM - I'm feeling the tsm in my balls\", 'OPEN THE FUCKING CASINO', 'AMZN is glued to 180', 'Fading everything except my BB', 'If stocks hold up throughout the rest of the week / next week, NVDA going to 1.1k', \"Get in RILY ried now it's happening boys\", 'NVDA $930 EOD', 'NVDA $930 EOD', 'TSM so far holding the line.', 'I just withdrew $500 from my RH gambling account and nearly had a heart attack when I went to the homescreen and saw my port was down about $500. God damn I belong here.', 'DJT plz dy agin', 'BERZ CAN KISS MY DICK AND SUCK MY A$$', 'Everything nice and green and TSLA still sucking dick', 'Ahh more false hope from TSM I see', 'Can we agree that SPY bulls should rename ourselves SPY KIDS', 'DJT ![img](emote|t5_2th52|4271)![img](emote|t5_2th52|4267)![img](emote|t5_2th52|31225)![img](emote|t5_2th52|31225)![img](emote|t5_2th52|18632)', 'So who called this NVDA and SOXL bull flag? Lets go', 'AMD $230 EOM', 'Okay fine. Just bought one RILY share', 'TSM earth shaking movement.', 'NVDA $920 call strike', 'The earthquake and tsunami warnings solidified the fact that TSM is a reliable company that can’t be knocked off', \"If you have some 0 DTE OTM options right now, if this keeps trading sideways you're going to lose money, if it goes the opposite way you're going to lose money. You can always get back in when you get confirmation. DON'T GET THETA FUKED!\", 'NVDA do your thing little buddy, it’s ok, you can join the others', 'DJT holding its value above $45 is an Easter miracle', 'Why was that $RILY DD post taken down 🤔🤔\\U0001fae3', \"With the hot ADP report, it's now time to cut rates and loosen financial conditions!!!\", \"NVDA looking like it wants to burst - hasn't come in a while, needs to burst, fly, and be free as a bird.\", 'He must be a millionaire to yolo that much on SPY 0 DTE', 'Switch to puts and watch TSLA rally 20% in 1 week', 'DJT origin story', 'Me when I make 500 on my PAA calls but pay 2000 extra in gas. 🎊']\n"
     ]
    }
   ],
   "source": [
    "data_test=dataset_builder('wallstreetbets')\n",
    "print(data_test)"
   ]
  },
  {
   "cell_type": "code",
   "execution_count": 42,
   "id": "f2792b20",
   "metadata": {},
   "outputs": [
    {
     "name": "stdout",
     "output_type": "stream",
     "text": [
      "124\n"
     ]
    }
   ],
   "source": [
    "print(len(data_test))"
   ]
  },
  {
   "cell_type": "code",
   "execution_count": 47,
   "id": "842a4779",
   "metadata": {},
   "outputs": [],
   "source": [
    "import re"
   ]
  },
  {
   "cell_type": "code",
   "execution_count": 45,
   "id": "bb4d7bac",
   "metadata": {},
   "outputs": [],
   "source": [
    "def clean_data(data):\n",
    "    cleaned_data = []\n",
    "    for comment in data:\n",
    "        cleaned_comment = re.sub(r'[^a-zA-Z0-9\\s]', '', comment)\n",
    "        cleaned_data.append(cleaned_comment)\n",
    "    return cleaned_data"
   ]
  },
  {
   "cell_type": "code",
   "execution_count": 48,
   "id": "fb0a20f4",
   "metadata": {},
   "outputs": [
    {
     "data": {
      "text/plain": [
       "['Fund managers and MMs trade just as emotionally as retail \\n\\nYou cant tell me Cathie doesnt absolutely RAGE BUY shit like PLTR when she makes a bad call before explaining it away with cobbled together DD about innovation and story',\n",
       " 'Fund managers and MMs trade just as emotionally as retail \\n\\nYou cant tell me Cathie doesnt absolutely RAGE BUY shit like PLTR when she makes a bad call before explaining it away with cobbled together DD about innovation and story',\n",
       " ' US SECRETARY OF STATE ANTONY BLINKENS AIRCRAFT HAD MECHANICAL ISSUE IN PARIS US DELEGATION DROVE TO BRUSSELS FOR NATO MEETING   STATE DEPARTMENT SPOKESPERSON And no its not an Airbus',\n",
       " 'Just OPEN THE FUCKING CASINO and get this bitch over with',\n",
       " 'THE FED HAS LOST CONTROL',\n",
       " 'JPOW GONNA FART ON HIS HAND AND SLAP THE BEARS TODAY',\n",
       " 'TSM green as AI is being used to track aftershocks and tidal waves\\n\\nGet rekt  imgemotet52th524267imgemotet52th524271',\n",
       " 'TSM green as AI is being used to track aftershocks and tidal waves\\n\\nGet rekt  imgemotet52th524267imgemotet52th524271',\n",
       " 'TSLA just announced FSD  Full self drilling imgemotet52th524271',\n",
       " 'TSLA just announced FSD  Full self drilling imgemotet52th524271',\n",
       " 'This week on Marvels What If\\n\\nWhat if Tony Stark got divorced and became a terminally online twitter troll who would do anything for the attention of the lowest IQ people on the planet to the detriment of any business associated with his name\\n\\nBullish on DIS',\n",
       " 'This week on Marvels What If\\n\\nWhat if Tony Stark got divorced and became a terminally online twitter troll who would do anything for the attention of the lowest IQ people on the planet to the detriment of any business associated with his name\\n\\nBullish on DIS',\n",
       " 'Waking up to an earthquake fucking my TSM calls in the ass Why do I play this game',\n",
       " 'Lets count AAPL bag holders Ill go first\\n60k in AAPL 185  July 19 currently down 50',\n",
       " 'Lets count AAPL bag holders Ill go first\\n60k in AAPL 185  July 19 currently down 50',\n",
       " 'TSLA  Guggenheim CUTS Tesla PT to 122 from 132 maintaining a Sell rating        \\n\\nThe firm points to more than just a onetime issue for Tesla after weak Q1 deliveries saying the supply chain issues highlighted by the company didnt explain the big drop in deliveries        \\n\\nAnalyst Comment We estimate the majority of delivery downside this quarter was a function of demand not supply We now model negative volume growth for FY24 highlight 2Q volume comparisons are challenging and sense a strategic shift from TSLA to defend pricing correct longterm strategy in our view at the expense of volumes        \\n\\nThe dip in demand has led to a significant increase in Teslas inventory potentially impacting its cash position',\n",
       " 'TSLA  Guggenheim CUTS Tesla PT to 122 from 132 maintaining a Sell rating        \\n\\nThe firm points to more than just a onetime issue for Tesla after weak Q1 deliveries saying the supply chain issues highlighted by the company didnt explain the big drop in deliveries        \\n\\nAnalyst Comment We estimate the majority of delivery downside this quarter was a function of demand not supply We now model negative volume growth for FY24 highlight 2Q volume comparisons are challenging and sense a strategic shift from TSLA to defend pricing correct longterm strategy in our view at the expense of volumes        \\n\\nThe dip in demand has led to a significant increase in Teslas inventory potentially impacting its cash position',\n",
       " 'Getting fucked today I bought TSM AMD and TSLA yesterday imgemotet52th524260imgemotet52th524260',\n",
       " 'Getting fucked today I bought TSM AMD and TSLA yesterday imgemotet52th524260imgemotet52th524260',\n",
       " 'Well my DJT puts are fucked\\n\\nBut at least I didnt buy 150k of SPY calls',\n",
       " 'Unable to create comment\\n\\nputs on RDDT',\n",
       " 'SPY HITTING 550 TODAY BOOK IT SON',\n",
       " 'SPY HITTING 550 TODAY BOOK IT SON',\n",
       " 'Oh cool my TSLA puts have made me checks port not enough money to cancel out my failing RDDT puts Great',\n",
       " 'Oh cool my TSLA puts have made me checks port not enough money to cancel out my failing RDDT puts Great',\n",
       " 'So much for TSM rally beginning of April ',\n",
       " 'Please reach 900 NVDA imgemotet52th5227421',\n",
       " 'people thought an earthquake would stop NVDA gains god cant even help you now mf',\n",
       " 'AAPL releases ai news that it can beat gpt4  1 imgemotet52th5227421',\n",
       " 'bibles to all DJT call holders',\n",
       " 'TSLA drilling',\n",
       " 'TSM holding strong',\n",
       " 'DJT  REDDIT TO 5',\n",
       " 'Clown market over SPY and tech up DJT and RDDT down imgemotet52th528882',\n",
       " 'Clown market over SPY and tech up DJT and RDDT down imgemotet52th528882',\n",
       " 'NVDA you little bitch get to 1000',\n",
       " 'DJT holders looking at their portfolios today imgemotet52th5218632imgemotet52th5218632imgemotet52th5218632imgemotet52th5231225imgemotet52th5231225imgemotet52th524267imgemotet52th524267imgemotet52th524267imgemotet52th524267',\n",
       " 'TSM you beautiful son of a bitch',\n",
       " 'Most my account is in TSM calls so its gonna be an ugly morning but should gap up this week\\n\\nMy PAA and PM calls are just flyingggg though Wish I had a few more of those\\n\\nI also feel LUMN 150 517 are gonna print earnings on 430 and theyre like 007 so I might pick up a few this morning',\n",
       " 'Most my account is in TSM calls so its gonna be an ugly morning but should gap up this week\\n\\nMy PAA and PM calls are just flyingggg though Wish I had a few more of those\\n\\nI also feel LUMN 150 517 are gonna print earnings on 430 and theyre like 007 so I might pick up a few this morning',\n",
       " 'Most my account is in TSM calls so its gonna be an ugly morning but should gap up this week\\n\\nMy PAA and PM calls are just flyingggg though Wish I had a few more of those\\n\\nI also feel LUMN 150 517 are gonna print earnings on 430 and theyre like 007 so I might pick up a few this morning',\n",
       " 'Most my account is in TSM calls so its gonna be an ugly morning but should gap up this week\\n\\nMy PAA and PM calls are just flyingggg though Wish I had a few more of those\\n\\nI also feel LUMN 150 517 are gonna print earnings on 430 and theyre like 007 so I might pick up a few this morning',\n",
       " 'TSLA fukt DJT fukt RDDT fukt SPY all time high',\n",
       " 'TSLA fukt DJT fukt RDDT fukt SPY all time high',\n",
       " 'TSLA fukt DJT fukt RDDT fukt SPY all time high',\n",
       " 'having spent several hours last night reviewing the quality  quantity of porn on reddit which in a word is substantial my new PT for RDDT is 5k Thats 3k more than what that regard schiff said for DJT Load up',\n",
       " 'having spent several hours last night reviewing the quality  quantity of porn on reddit which in a word is substantial my new PT for RDDT is 5k Thats 3k more than what that regard schiff said for DJT Load up',\n",
       " 'CNBC talking head 5 months ago markets will roar as Fed does 6 or even more rate cuts\\xa0\\n\\n\\xa0CNBC analyst now strong ADP employment  is good sign economy is strong and bull market will continue\\xa0\\n\\n\\xa0',\n",
       " 'Historically April and December are the strongest bull months Check on Google or your AI buddy',\n",
       " 'SMCI ass raping me imgemotet52th5231226',\n",
       " 'Green confirmed EOD imgemotet52th524258',\n",
       " 'So NVDA just never going to have a green day again All 1 from here on cool',\n",
       " 'Good luck everyone except TSLA fanboys\\xa0',\n",
       " 'DJT dump incoming',\n",
       " 'Im going to get greedy on these DJT puts imgemotet52th524271',\n",
       " 'lol INTC missing out on the biggest semi rally in history show me a more pathetic stock',\n",
       " 'AMC IS DEAD imgemotet52th524271imgemotet52th524271imgemotet52th524271imgemotet52th524271',\n",
       " 'DJT 50 1115 c  875\\n\\nDJT 50 1115 p  3420\\n\\nimgemotet52th524271imgemotet52th524271imgemotet52th524271',\n",
       " 'DJT 50 1115 c  875\\n\\nDJT 50 1115 p  3420\\n\\nimgemotet52th524271imgemotet52th524271imgemotet52th524271',\n",
       " 'Just wait til Jpump speaks SPY 525 EOD',\n",
       " 'Last chance to get on this TSM train chooo chooo mothersuckers',\n",
       " 'TSM train is the absolute moveeeeee',\n",
       " 'The Fed just needs to fire all the humans and switch to AI run algos Automate all decisions The market would love that shit',\n",
       " '78 earthquake mean spy will go up 78 Follow for more DD',\n",
       " 'PP into ber AZZ',\n",
       " 'AAPL up 015 fucking W right there',\n",
       " 'Im thinking TSLA keeps falling 2 each day until a low in the 152155 range Doubt it goes below 150 Thats where Ill be buying calls',\n",
       " 'When a company continuously posts shit results from doing business why the fuck would you believe them when they spin some bullshit about the future\\n\\nTSLA ',\n",
       " 'Fuck NVDA and Apple META and MSFT have not even hinted at any kind of pullback in like a year Zuck is invincible\\xa0',\n",
       " 'Fuck NVDA and Apple META and MSFT have not even hinted at any kind of pullback in like a year Zuck is invincible\\xa0',\n",
       " 'Fuck NVDA and Apple META and MSFT have not even hinted at any kind of pullback in like a year Zuck is invincible\\xa0',\n",
       " 'Apple announces new iPhone with ai and NVDA processors',\n",
       " 'TSM finishes green today\\xa0',\n",
       " 'PUMP DIS',\n",
       " 'PUMP DIS',\n",
       " 'TSLA wtf why are you rocketing up',\n",
       " 'Show yourselves INTC bagholders Do it now\\n\\nIts me  Im INTC bagholders',\n",
       " 'Show yourselves INTC bagholders Do it now\\n\\nIts me  Im INTC bagholders',\n",
       " 'RILY REID calls imgemotet52th524276',\n",
       " 'Sold all my TSLA  youre welcome',\n",
       " 'RDDT and DJT down while everything else up as it should be',\n",
       " 'RDDT and DJT down while everything else up as it should be',\n",
       " 'what the  NVDA kept getting rejected at 900',\n",
       " 'Got out of SPY at that MEGA PUMP with a 12 portfolio gain including 200 on some 0DTEs\\n\\nGood enough for me Good luck other bols still in\\n\\nimgemotet52th524258',\n",
       " 'Whats it gonna take for DJT to be properly valued They announce they are losing money no revenue high risk of failing mismanaged and founders suing each other Who sees that and is like Im in',\n",
       " 'I shorted NVDA calls so its now gonna run  Youre welcome',\n",
       " 'NVIDIA AMD imgemotet52th524276imgemotet52th524276imgemotet52th524276',\n",
       " 'Went to Disneyland last weekend It was raining and park was crowded DIS 130 June Calls',\n",
       " 'Hover around 520 until Powell speaks then up to 523 maybe 524 by 2pm ET',\n",
       " 'DJT has 3 employees the CEO is Devin Nunes it generates less revenue than a single Dennys and somehow it goes up 6 on a red Tuesday and bounces from 5 premarket and turns green  Make it make sense',\n",
       " 'Howd u get so swole I do 1 push up every time AAPL reclaims 170 level',\n",
       " 'RIP TSLA',\n",
       " 'Full port TSM  Im feeling the tsm in my balls',\n",
       " 'OPEN THE FUCKING CASINO',\n",
       " 'AMZN is glued to 180',\n",
       " 'Fading everything except my BB',\n",
       " 'If stocks hold up throughout the rest of the week  next week NVDA going to 11k',\n",
       " 'Get in RILY ried now its happening boys',\n",
       " 'NVDA 930 EOD',\n",
       " 'NVDA 930 EOD',\n",
       " 'TSM so far holding the line',\n",
       " 'I just withdrew 500 from my RH gambling account and nearly had a heart attack when I went to the homescreen and saw my port was down about 500 God damn I belong here',\n",
       " 'DJT plz dy agin',\n",
       " 'BERZ CAN KISS MY DICK AND SUCK MY A',\n",
       " 'Everything nice and green and TSLA still sucking dick',\n",
       " 'Ahh more false hope from TSM I see',\n",
       " 'Can we agree that SPY bulls should rename ourselves SPY KIDS',\n",
       " 'DJT imgemotet52th524271imgemotet52th524267imgemotet52th5231225imgemotet52th5231225imgemotet52th5218632',\n",
       " 'So who called this NVDA and SOXL bull flag Lets go',\n",
       " 'AMD 230 EOM',\n",
       " 'Okay fine Just bought one RILY share',\n",
       " 'TSM earth shaking movement',\n",
       " 'NVDA 920 call strike',\n",
       " 'The earthquake and tsunami warnings solidified the fact that TSM is a reliable company that cant be knocked off',\n",
       " 'If you have some 0 DTE OTM options right now if this keeps trading sideways youre going to lose money if it goes the opposite way youre going to lose money You can always get back in when you get confirmation DONT GET THETA FUKED',\n",
       " 'NVDA do your thing little buddy its ok you can join the others',\n",
       " 'DJT holding its value above 45 is an Easter miracle',\n",
       " 'Why was that RILY DD post taken down ',\n",
       " 'With the hot ADP report its now time to cut rates and loosen financial conditions',\n",
       " 'NVDA looking like it wants to burst  hasnt come in a while needs to burst fly and be free as a bird',\n",
       " 'He must be a millionaire to yolo that much on SPY 0 DTE',\n",
       " 'Switch to puts and watch TSLA rally 20 in 1 week',\n",
       " 'DJT origin story',\n",
       " 'Me when I make 500 on my PAA calls but pay 2000 extra in gas ']"
      ]
     },
     "execution_count": 48,
     "metadata": {},
     "output_type": "execute_result"
    }
   ],
   "source": [
    "clean_data(data_test)"
   ]
  },
  {
   "cell_type": "code",
   "execution_count": null,
   "id": "69cb4a7d",
   "metadata": {},
   "outputs": [],
   "source": []
  }
 ],
 "metadata": {
  "kernelspec": {
   "display_name": "Python 3 (ipykernel)",
   "language": "python",
   "name": "python3"
  },
  "language_info": {
   "codemirror_mode": {
    "name": "ipython",
    "version": 3
   },
   "file_extension": ".py",
   "mimetype": "text/x-python",
   "name": "python",
   "nbconvert_exporter": "python",
   "pygments_lexer": "ipython3",
   "version": "3.10.6"
  },
  "toc": {
   "base_numbering": 1,
   "nav_menu": {},
   "number_sections": true,
   "sideBar": true,
   "skip_h1_title": false,
   "title_cell": "Table of Contents",
   "title_sidebar": "Contents",
   "toc_cell": false,
   "toc_position": {},
   "toc_section_display": true,
   "toc_window_display": false
  }
 },
 "nbformat": 4,
 "nbformat_minor": 5
}
