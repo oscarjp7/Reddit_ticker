{
 "cells": [
  {
   "cell_type": "code",
   "execution_count": 1,
   "id": "915e33cd",
   "metadata": {},
   "outputs": [
    {
     "name": "stdout",
     "output_type": "stream",
     "text": [
      "Collecting psaw\n",
      "  Downloading psaw-0.1.0-py3-none-any.whl.metadata (10 kB)\n",
      "Requirement already satisfied: requests in /Users/oscarpetersen/.pyenv/versions/3.10.6/envs/lewagon/lib/python3.10/site-packages (from psaw) (2.28.1)\n",
      "Requirement already satisfied: Click in /Users/oscarpetersen/.pyenv/versions/3.10.6/envs/lewagon/lib/python3.10/site-packages (from psaw) (8.1.3)\n",
      "Requirement already satisfied: charset-normalizer<3,>=2 in /Users/oscarpetersen/.pyenv/versions/3.10.6/envs/lewagon/lib/python3.10/site-packages (from requests->psaw) (2.1.1)\n",
      "Requirement already satisfied: idna<4,>=2.5 in /Users/oscarpetersen/.pyenv/versions/3.10.6/envs/lewagon/lib/python3.10/site-packages (from requests->psaw) (3.4)\n",
      "Requirement already satisfied: urllib3<1.27,>=1.21.1 in /Users/oscarpetersen/.pyenv/versions/3.10.6/envs/lewagon/lib/python3.10/site-packages (from requests->psaw) (1.26.12)\n",
      "Requirement already satisfied: certifi>=2017.4.17 in /Users/oscarpetersen/.pyenv/versions/3.10.6/envs/lewagon/lib/python3.10/site-packages (from requests->psaw) (2022.9.24)\n",
      "Downloading psaw-0.1.0-py3-none-any.whl (15 kB)\n",
      "Installing collected packages: psaw\n",
      "Successfully installed psaw-0.1.0\n",
      "\n",
      "\u001b[1m[\u001b[0m\u001b[34;49mnotice\u001b[0m\u001b[1;39;49m]\u001b[0m\u001b[39;49m A new release of pip is available: \u001b[0m\u001b[31;49m23.3.2\u001b[0m\u001b[39;49m -> \u001b[0m\u001b[32;49m24.0\u001b[0m\n",
      "\u001b[1m[\u001b[0m\u001b[34;49mnotice\u001b[0m\u001b[1;39;49m]\u001b[0m\u001b[39;49m To update, run: \u001b[0m\u001b[32;49mpython3.10 -m pip install --upgrade pip\u001b[0m\n",
      "Note: you may need to restart the kernel to use updated packages.\n"
     ]
    }
   ],
   "source": [
    "pip install psaw"
   ]
  },
  {
   "cell_type": "code",
   "execution_count": null,
   "id": "3f54a590",
   "metadata": {},
   "outputs": [],
   "source": [
    "from psaw import PushshiftAPI\n",
    "\n",
    "# Initialize PushShift\n",
    "api = PushshiftAPI()"
   ]
  },
  {
   "cell_type": "code",
   "execution_count": null,
   "id": "93ca9993",
   "metadata": {},
   "outputs": [],
   "source": []
  }
 ],
 "metadata": {
  "kernelspec": {
   "display_name": "Python 3 (ipykernel)",
   "language": "python",
   "name": "python3"
  },
  "language_info": {
   "codemirror_mode": {
    "name": "ipython",
    "version": 3
   },
   "file_extension": ".py",
   "mimetype": "text/x-python",
   "name": "python",
   "nbconvert_exporter": "python",
   "pygments_lexer": "ipython3",
   "version": "3.10.6"
  },
  "toc": {
   "base_numbering": 1,
   "nav_menu": {},
   "number_sections": true,
   "sideBar": true,
   "skip_h1_title": false,
   "title_cell": "Table of Contents",
   "title_sidebar": "Contents",
   "toc_cell": false,
   "toc_position": {},
   "toc_section_display": true,
   "toc_window_display": false
  }
 },
 "nbformat": 4,
 "nbformat_minor": 5
}
